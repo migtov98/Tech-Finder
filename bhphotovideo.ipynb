{
 "cells": [
  {
   "cell_type": "code",
   "execution_count": 2,
   "id": "3704c462",
   "metadata": {},
   "outputs": [],
   "source": [
    "import requests\n",
    "from bs4 import BeautifulSoup\n",
    "%run selenium.ipynb"
   ]
  },
  {
   "cell_type": "code",
   "execution_count": 3,
   "id": "3b2e5298",
   "metadata": {},
   "outputs": [],
   "source": [
    "BH_URL = 'https://www.bhphotovideo.com'\n",
    "\n",
    "def getBHPage(userInput):\n",
    "        search_term = userInput.replace(' ','%20')\n",
    "        page = f\"https://www.bhphotovideo.com/c/search?q={search_term}&sts=ma\"\n",
    "#         page = f\"https://www.bhphotovideo.com/c/search?q={search_term}&filters=fct_a_filter_by%3A03_INSTOCK%2Cfct_category%3Agraphic_cards_6567\"\n",
    "        return page  \n",
    "    \n",
    "def getBHProductNames(soup):\n",
    "    arr_product_names = []\n",
    "    results=soup.find_all('div', {'class': \"desc_UCJ1nUFwhh\"})\n",
    "    for item in results:\n",
    "        title = item.find('span').text.strip()\n",
    "        arr_product_names.append(title) \n",
    "    return arr_product_names\n",
    "    \n",
    "def getBHLinks(soup):\n",
    "    arr_links = []\n",
    "    results=soup.find_all('div', {'class': \"desc_UCJ1nUFwhh\"})\n",
    "    for item in results:\n",
    "        link = item.find('a')['href']\n",
    "        arr_links.append(BH_URL + link)\n",
    "    return arr_links\n",
    "\n",
    "def getBHPrices(soup):\n",
    "    arr_prices = []\n",
    "    results=soup.find_all('span', {'class': \"container_g3a3KcfvMV\"})\n",
    "    for item in results:\n",
    "        try:\n",
    "            price = item.find('span').text.replace('$','').replace(',','').strip() \n",
    "            price = f\"{price}.99\"\n",
    "        except:\n",
    "            price = None\n",
    "        arr_prices.append(price) \n",
    "    return arr_prices\n",
    "\n",
    "def getBHUsualPrices(soup):\n",
    "    arr_usual_prices = []\n",
    "    results=soup.find_all('div', {'class': \"pricesContainer_x6DXwdw1Fb\"}) \n",
    "    for item in results:\n",
    "        try:\n",
    "            usual_price = item.find('del',{'class':'strikeThroughPrice_pA1rBtJzNy strikeThroughPrice_x6DXwdw1Fb'}).get_text()\n",
    "            if usual_price.startswith(\"Reg. $\"):\n",
    "                usual_price = usual_price[6:]\n",
    "        except:\n",
    "            usual_price = None\n",
    "        arr_usual_prices.append(usual_price) \n",
    "    return arr_usual_prices\n",
    "\n",
    "def getBHStock(soup):\n",
    "    arr_stocks = []\n",
    "    results = bh_soup.find_all('div',{'class':'stockInfoWrap_UCJ1nUFwhh'})\n",
    "    for item in results:\n",
    "        try:\n",
    "            stock = item.find('span').text.strip()            \n",
    "        except:\n",
    "            stock = None\n",
    "        arr_stocks.append(stock)\n",
    "    return arr_stocks"
   ]
  }
 ],
 "metadata": {
  "kernelspec": {
   "display_name": "Python 3 (ipykernel)",
   "language": "python",
   "name": "python3"
  },
  "language_info": {
   "codemirror_mode": {
    "name": "ipython",
    "version": 3
   },
   "file_extension": ".py",
   "mimetype": "text/x-python",
   "name": "python",
   "nbconvert_exporter": "python",
   "pygments_lexer": "ipython3",
   "version": "3.9.13"
  },
  "varInspector": {
   "cols": {
    "lenName": 16,
    "lenType": 16,
    "lenVar": 40
   },
   "kernels_config": {
    "python": {
     "delete_cmd_postfix": "",
     "delete_cmd_prefix": "del ",
     "library": "var_list.py",
     "varRefreshCmd": "print(var_dic_list())"
    },
    "r": {
     "delete_cmd_postfix": ") ",
     "delete_cmd_prefix": "rm(",
     "library": "var_list.r",
     "varRefreshCmd": "cat(var_dic_list()) "
    }
   },
   "types_to_exclude": [
    "module",
    "function",
    "builtin_function_or_method",
    "instance",
    "_Feature"
   ],
   "window_display": false
  }
 },
 "nbformat": 4,
 "nbformat_minor": 5
}
