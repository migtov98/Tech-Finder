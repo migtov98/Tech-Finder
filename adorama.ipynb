{
 "cells": [
  {
   "cell_type": "code",
   "execution_count": 6,
   "id": "7d8f5850",
   "metadata": {},
   "outputs": [],
   "source": [
    "import requests\n",
    "from bs4 import BeautifulSoup\n",
    "%run selenium.ipynb "
   ]
  },
  {
   "cell_type": "code",
   "execution_count": 1,
   "id": "3065e152",
   "metadata": {},
   "outputs": [],
   "source": [
    "def getAdoramaPage(userInput):\n",
    "    search_term = userInput.replace(' ','%20')\n",
    "    page = f\"https://www.adorama.com/l/?searchinfo={search_term}\"    \n",
    "    return page \n",
    "\n",
    "def getAdoramaProductNames(soup):\n",
    "    arr_product_names = []\n",
    "    results=soup.find_all('div', {'class': \"Products_description__AiWP4\"})\n",
    "    for item in results:\n",
    "        title = item.find('span').text.strip()\n",
    "        arr_product_names.append(title) #adds title to list\n",
    "    return arr_product_names\n",
    "\n",
    "def getAdoramaLinks(soup):\n",
    "    arr_links = []\n",
    "    results=soup.find_all('div', {'class': \"Products_description__AiWP4\"})\n",
    "    for item in results:\n",
    "        link = item.find('a')['href']\n",
    "        arr_links.append(link) #adds link to list\n",
    "    return arr_links\n",
    "\n",
    "def getAdoramaPrices(soup):\n",
    "    arr_prices = []\n",
    "    results=soup.find_all('span', {'class': \"Products_price__ACYq_\"})\n",
    "    for item in results:\n",
    "        try:                        \n",
    "            price = item.text.replace('$','').replace(',','').strip()\n",
    "        except:\n",
    "            price = None\n",
    "        arr_prices.append(price) #adds price to list\n",
    "    return arr_prices\n",
    "\n",
    "def getAdoramaUsualPrices(soup):\n",
    "    arr_usual_prices = []\n",
    "    results=soup.find_all('section', {'class': \"Products_productPrice__vfA3t\"})\n",
    "    for item in results:\n",
    "        try:                        \n",
    "            usual_price = item.find('span',{'class':'Products_highPrice__FPVo6'}).find_next(string=True)\n",
    "            usual_price = usual_price.text.replace('$','').replace(',','').strip()    \n",
    "        except:\n",
    "            usual_price = None\n",
    "        arr_usual_prices.append(usual_price) #adds price to list\n",
    "    return arr_usual_prices"
   ]
  }
 ],
 "metadata": {
  "kernelspec": {
   "display_name": "Python 3 (ipykernel)",
   "language": "python",
   "name": "python3"
  },
  "language_info": {
   "codemirror_mode": {
    "name": "ipython",
    "version": 3
   },
   "file_extension": ".py",
   "mimetype": "text/x-python",
   "name": "python",
   "nbconvert_exporter": "python",
   "pygments_lexer": "ipython3",
   "version": "3.9.13"
  },
  "varInspector": {
   "cols": {
    "lenName": 16,
    "lenType": 16,
    "lenVar": 40
   },
   "kernels_config": {
    "python": {
     "delete_cmd_postfix": "",
     "delete_cmd_prefix": "del ",
     "library": "var_list.py",
     "varRefreshCmd": "print(var_dic_list())"
    },
    "r": {
     "delete_cmd_postfix": ") ",
     "delete_cmd_prefix": "rm(",
     "library": "var_list.r",
     "varRefreshCmd": "cat(var_dic_list()) "
    }
   },
   "types_to_exclude": [
    "module",
    "function",
    "builtin_function_or_method",
    "instance",
    "_Feature"
   ],
   "window_display": false
  }
 },
 "nbformat": 4,
 "nbformat_minor": 5
}
