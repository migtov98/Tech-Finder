{
 "cells": [
  {
   "cell_type": "code",
   "execution_count": 6,
   "id": "8041f65b",
   "metadata": {},
   "outputs": [],
   "source": [
    "# pip install selenium\n",
    "# pip install webdriver-manager"
   ]
  },
  {
   "cell_type": "code",
   "execution_count": 7,
   "id": "16c159a8",
   "metadata": {},
   "outputs": [],
   "source": [
    "from selenium import webdriver\n",
    "from selenium.webdriver.chrome.options import Options\n",
    "from selenium.webdriver.chrome.service import Service"
   ]
  },
  {
   "cell_type": "code",
   "execution_count": 10,
   "id": "4f5d8e55",
   "metadata": {},
   "outputs": [],
   "source": [
    "#Gets the page in lxml format\n",
    "def getDataWithSelenium(page):\n",
    "    CHROMEDRIVER_PATH = 'C:/chromedriver-win64/chromedriver.exe'        \n",
    "    \n",
    "    try:\n",
    "        options = Options()\n",
    "        options.add_argument(\"start-maximized\")\n",
    "#         chrome_options.add_argument(\"--headless=new\")\n",
    "        options.add_argument(\"--disable-blink-features=AutomationControlled\")\n",
    "#         options.add_experimental_option(\"excludeSwitches\", [\"enable-automation\"])\n",
    "#         options.add_experimental_option('useAutomationExtension', False)\n",
    "        \n",
    "        driver = webdriver.Chrome(options=options, executable_path=CHROMEDRIVER_PATH)\n",
    "\n",
    "        driver.get(page)\n",
    "        soup = BeautifulSoup(driver.page_source, \"lxml\")    # lxml is a python library which allows easy handling of XML and HTML files, and can be used for web scraping. \n",
    "\n",
    "        driver.quit()\n",
    "        \n",
    "        print(f\"Retreived data from {page}\")\n",
    "        \n",
    "    except:\n",
    "        soup = None\n",
    "        print(f\"Unable to retreive data from {page}\")\n",
    "        \n",
    "    return soup"
   ]
  }
 ],
 "metadata": {
  "kernelspec": {
   "display_name": "Python 3 (ipykernel)",
   "language": "python",
   "name": "python3"
  },
  "language_info": {
   "codemirror_mode": {
    "name": "ipython",
    "version": 3
   },
   "file_extension": ".py",
   "mimetype": "text/x-python",
   "name": "python",
   "nbconvert_exporter": "python",
   "pygments_lexer": "ipython3",
   "version": "3.9.13"
  },
  "varInspector": {
   "cols": {
    "lenName": 16,
    "lenType": 16,
    "lenVar": 40
   },
   "kernels_config": {
    "python": {
     "delete_cmd_postfix": "",
     "delete_cmd_prefix": "del ",
     "library": "var_list.py",
     "varRefreshCmd": "print(var_dic_list())"
    },
    "r": {
     "delete_cmd_postfix": ") ",
     "delete_cmd_prefix": "rm(",
     "library": "var_list.r",
     "varRefreshCmd": "cat(var_dic_list()) "
    }
   },
   "types_to_exclude": [
    "module",
    "function",
    "builtin_function_or_method",
    "instance",
    "_Feature"
   ],
   "window_display": false
  }
 },
 "nbformat": 4,
 "nbformat_minor": 5
}
