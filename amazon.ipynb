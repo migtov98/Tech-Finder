{
 "cells": [
  {
   "cell_type": "code",
   "execution_count": 5,
   "id": "f35781b6",
   "metadata": {},
   "outputs": [],
   "source": [
    "import requests\n",
    "from bs4 import BeautifulSoup\n",
    "%run selenium.ipynb"
   ]
  },
  {
   "cell_type": "code",
   "execution_count": 2,
   "id": "74bfcfd2",
   "metadata": {},
   "outputs": [],
   "source": [
    "AMAZON_URL = 'https://www.amazon.com'\n",
    "\n",
    "#Attaches the search_term to the search link\n",
    "def getAmazonPage(search_term):\n",
    "    page = f\"https://www.amazon.com/s?k={search_term}\"\n",
    "    return page\n",
    "\n",
    "#Gets the name of the products\n",
    "def getAmazonProductNames(soup):\n",
    "    arr_product_names = []\n",
    "    results = soup.find_all('h2',{'class':'a-size-mini a-spacing-none a-color-base s-line-clamp-2'})\n",
    "    for item in results:\n",
    "        title = item.find('span',{'class':'a-size-medium a-color-base a-text-normal'}).find_next(string=True)\n",
    "        arr_product_names.append(title)\n",
    "    return arr_product_names\n",
    "\n",
    "#Gets the links of the products\n",
    "def getAmazonLinks(soup):\n",
    "    arr_links = []\n",
    "    results = soup.find_all('h2',{'class':'a-size-mini a-spacing-none a-color-base s-line-clamp-2'})\n",
    "    for item in results: \n",
    "        link = item.find('a')['href']\n",
    "        arr_links.append(AMAZON_URL + link) \n",
    "    return arr_links\n",
    "\n",
    "#Gets the prices listed\n",
    "def getAmazonPrices(soup):\n",
    "    arr_prices = []\n",
    "    results = soup.find_all('div',{'class':'a-section a-spacing-none a-spacing-top-micro puis-price-instructions-style'})\n",
    "    for item in results: \n",
    "        try:\n",
    "            price = item.find('span',{'class':'a-offscreen'}).text.replace('$','').replace(',','').strip()       \n",
    "        except:\n",
    "            price = None\n",
    "        arr_prices.append(price) \n",
    "    return arr_prices\n",
    "\n",
    "#This functions gets the usual price if the product is on sale\n",
    "def getAmazonUsualPrices(soup):\n",
    "    arr_usual_prices = []\n",
    "    results = soup.find_all('div',{'class':'a-section a-spacing-none a-spacing-top-micro puis-price-instructions-style'})\n",
    "    for item in results: \n",
    "        try:\n",
    "            usual_price = item.find('span',{'class':'a-price a-text-price'}).find_next(string=True)\n",
    "            usual_price = usual_price.text.replace('$','').replace(',','').strip()    \n",
    "        except:\n",
    "            usual_price = None\n",
    "        arr_usual_prices.append(usual_price) \n",
    "    return arr_usual_prices    \n",
    "\n",
    "#Gets the amount of product stock available\n",
    "def getAmazonStock(soup):\n",
    "    arr_stocks = []\n",
    "    results = soup.find_all('div',{'class':'puisg-col puisg-col-4-of-12 puisg-col-8-of-16 puisg-col-12-of-20 puisg-col-12-of-24 puis-list-col-right'})\n",
    "    for item in results:\n",
    "        try:    \n",
    "            stock = item.find('span',{'class':'a-size-base a-color-price'}).find_next(string=True)\n",
    "            stock = stock.strip()\n",
    "        except:\n",
    "            stock = None\n",
    "        arr_stocks.append(stock)\n",
    "    return arr_stocks         "
   ]
  }
 ],
 "metadata": {
  "kernelspec": {
   "display_name": "Python 3 (ipykernel)",
   "language": "python",
   "name": "python3"
  },
  "language_info": {
   "codemirror_mode": {
    "name": "ipython",
    "version": 3
   },
   "file_extension": ".py",
   "mimetype": "text/x-python",
   "name": "python",
   "nbconvert_exporter": "python",
   "pygments_lexer": "ipython3",
   "version": "3.9.13"
  },
  "varInspector": {
   "cols": {
    "lenName": 16,
    "lenType": 16,
    "lenVar": 40
   },
   "kernels_config": {
    "python": {
     "delete_cmd_postfix": "",
     "delete_cmd_prefix": "del ",
     "library": "var_list.py",
     "varRefreshCmd": "print(var_dic_list())"
    },
    "r": {
     "delete_cmd_postfix": ") ",
     "delete_cmd_prefix": "rm(",
     "library": "var_list.r",
     "varRefreshCmd": "cat(var_dic_list()) "
    }
   },
   "types_to_exclude": [
    "module",
    "function",
    "builtin_function_or_method",
    "instance",
    "_Feature"
   ],
   "window_display": false
  }
 },
 "nbformat": 4,
 "nbformat_minor": 5
}
