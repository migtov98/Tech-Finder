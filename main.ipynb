{
 "cells": [
  {
   "cell_type": "code",
   "execution_count": 1,
   "id": "44b3e139",
   "metadata": {
    "scrolled": true
   },
   "outputs": [],
   "source": [
    "from operator import truediv\n",
    "import pandas as pd \n",
    "from datetime import datetime\n",
    "\n",
    "%run selenium.ipynb\n",
    "%run microcenter.ipynb\n",
    "%run amazon.ipynb\n",
    "%run adorama.ipynb\n",
    "%run bhphotovideo.ipynb\n",
    "%run newegg.ipynb"
   ]
  },
  {
   "cell_type": "markdown",
   "id": "5188279f",
   "metadata": {},
   "source": [
    "# Welcome message"
   ]
  },
  {
   "cell_type": "code",
   "execution_count": null,
   "id": "ef240c16",
   "metadata": {},
   "outputs": [],
   "source": [
    "def displayWelcomeMessage():\n",
    "    print('------------ TECH FINDER ------------')\n",
    "    print('Welcome!',\n",
    "          '\\nTech Finder retreives product data from the following websites:',\n",
    "          '\\nMicrocenter, Amazon, Newegg, Adorama, and B&H Photo Video!\\n')"
   ]
  },
  {
   "cell_type": "markdown",
   "id": "d09f928a",
   "metadata": {},
   "source": [
    "# Obtain user input and website data"
   ]
  },
  {
   "cell_type": "code",
   "execution_count": 2,
   "id": "e2bbf96d",
   "metadata": {},
   "outputs": [],
   "source": [
    "def getSearchInfo():\n",
    "    # Get user input and modify input for selenium input\n",
    "    user_input=input(\"Please enter product name or model: \")\n",
    "    search_term = user_input.replace(' ','+')\n",
    "    \n",
    "    # Get current time for csv filename\n",
    "    current_time = datetime.now().strftime('%Y-%m-%d_%H-%M-%S')\n",
    "    \n",
    "    return user_input,search_term,current_time"
   ]
  },
  {
   "cell_type": "markdown",
   "id": "799607bf",
   "metadata": {},
   "source": [
    "# Website selection"
   ]
  },
  {
   "cell_type": "code",
   "execution_count": 37,
   "id": "53ac6c5d",
   "metadata": {},
   "outputs": [],
   "source": [
    "def websiteSelection():\n",
    "    website_option = \"\"\n",
    "    while(website_option != '1' or website_option !='2'):\n",
    "        print('\\n------------ WEBSITE OPTIONS ------------')\n",
    "        print('Websites: Microcenter, Amazon, Newegg, Adorama, B&H Photo Video')\n",
    "        print(\"1: Search all websites\",\n",
    "              \"\\n2: Search specific website(s)\")\n",
    "\n",
    "        website_option = input('\\nSelect option by entering number: ')        \n",
    "\n",
    "        if website_option == '1':\n",
    "            selected_sites = searchAllWebsites()\n",
    "            break\n",
    "        elif website_option == '2':\n",
    "            selected_sites = searchSpecificWebsites()\n",
    "            break  \n",
    "            \n",
    "    return selected_sites"
   ]
  },
  {
   "cell_type": "code",
   "execution_count": 3,
   "id": "2bde97ba",
   "metadata": {},
   "outputs": [],
   "source": [
    "def searchAllWebsites():\n",
    "    return ['microcenter','amazon','newegg','adorama','bh']"
   ]
  },
  {
   "cell_type": "code",
   "execution_count": 4,
   "id": "dd5d5319",
   "metadata": {},
   "outputs": [],
   "source": [
    "def searchSpecificWebsites():\n",
    "    user_input = ''\n",
    "    microcenter = '1. Microcenter '\n",
    "    amazon      = '\\n2. Amazon '\n",
    "    newegg      = '\\n3. Newegg '\n",
    "    adorama     = '\\n4. Adorama '\n",
    "    bh          = '\\n5. B&H Video Photography '\n",
    "    selected_sites = []\n",
    "    keep_looping = True\n",
    "        \n",
    "    while(keep_looping == True):\n",
    "        print(\"\\n------------ SEARCH SPECIFIC WEBSITES ------------\")\n",
    "        print(microcenter, amazon, newegg, adorama, bh)\n",
    "        user_input = input(\"\\nSelect websites by entering their number. If done input 'done': \")    \n",
    "        \n",
    "        if (user_input=='1'):\n",
    "            if '✓' in microcenter:\n",
    "                microcenter=microcenter.replace('✓', '')     \n",
    "                selected_sites.remove('microcenter')\n",
    "            else:\n",
    "                microcenter += '✓' \n",
    "                selected_sites.append('microcenter')\n",
    "                \n",
    "        elif (user_input=='2'):\n",
    "            if '✓' in amazon:\n",
    "                amazon=amazon.replace('✓', '')\n",
    "                selected_sites.remove('amazon')\n",
    "            else:\n",
    "                amazon += '✓'\n",
    "                selected_sites.append('amazon')\n",
    "                \n",
    "        elif (user_input=='3'):\n",
    "            if '✓' in newegg:\n",
    "                newegg=newegg.replace('✓', '')\n",
    "                selected_sites.remove('newegg')\n",
    "            else:\n",
    "                newegg += '✓'\n",
    "                selected_sites.append('newegg')\n",
    "                \n",
    "        elif (user_input=='4'):\n",
    "            if '✓' in adorama:\n",
    "                adorama=adorama.replace('✓', '')\n",
    "                selected_sites.remove('adorama')\n",
    "            else:\n",
    "                adorama += '✓'\n",
    "                selected_sites.append('adorama')\n",
    "                \n",
    "        elif (user_input=='5'):\n",
    "            if '✓' in bh:\n",
    "                bh=bh.replace('✓', '')\n",
    "                selected_sites.remove('bh')\n",
    "            else:\n",
    "                bh += '✓'\n",
    "                selected_sites.append('bh')\n",
    "                \n",
    "        elif(user_input == 'done' or user_input == 'DONE'):\n",
    "            keep_looping = False\n",
    "                \n",
    "        else:\n",
    "            continue        \n",
    "            \n",
    "    return selected_sites"
   ]
  },
  {
   "cell_type": "markdown",
   "id": "c5bbffcf",
   "metadata": {},
   "source": [
    "# Get Soup"
   ]
  },
  {
   "cell_type": "code",
   "execution_count": 15,
   "id": "77461e6b",
   "metadata": {},
   "outputs": [],
   "source": [
    "def getSelectedSitesInfo(selected_sites,search_term,user_input):\n",
    "    # Array to append selected websites\n",
    "    frames = []\n",
    "    \n",
    "    # 1. Get website page that will be scraped\n",
    "    # 2. Get website page data\n",
    "    # 3. Create website data frames\n",
    "    # 4. Add dataframe to array of frames that will be concatenated        \n",
    "    \n",
    "    if 'microcenter' in selected_sites:\n",
    "        microcenter_soup, microcenter_df = getWebsiteInfo(\"Microcenter\",search_term)\n",
    "        frames.append(microcenter_df)\n",
    "\n",
    "    if 'amazon' in selected_sites:\n",
    "        amazon_soup, amazon_df = getWebsiteInfo(\"Amazon\",search_term)\n",
    "        frames.append(amazon_df)\n",
    "\n",
    "    if 'newegg' in selected_sites:\n",
    "        newegg_soup, newegg_df = getWebsiteInfo(\"Newegg\",search_term)\n",
    "        frames.append(newegg_df)\n",
    "\n",
    "    if 'adorama' in selected_sites:\n",
    "        adorama_soup, adorama_df = getWebsiteInfo(\"Adorama\",user_input)\n",
    "        frames.append(adorama_df)\n",
    "\n",
    "    if 'bh' in selected_sites:\n",
    "        bh_soup, bh_df = getBhInfo(\"B&H Photo Video\",user_input)\n",
    "        frames.append(bh_df)        \n",
    "    \n",
    "    try:\n",
    "        # Concatenate all data frames\n",
    "        result = pd.concat(frames)\n",
    "        result.reset_index(drop=True, inplace=True)   \n",
    "    except:\n",
    "        print(\"Issue occurred when concatenating data frame(s)\")\n",
    "        return None\n",
    "\n",
    "    return result"
   ]
  },
  {
   "cell_type": "code",
   "execution_count": 36,
   "id": "32ec8321",
   "metadata": {},
   "outputs": [],
   "source": [
    "def getWebsiteInfo(website,search_term):\n",
    "    if website   == \"Microcenter\":\n",
    "        page      = getMicrocenterPage(search_term)\n",
    "    elif website == \"Amazon\":\n",
    "        page      = getAmazonPage(search_term)\n",
    "    elif website == \"Newegg\":\n",
    "        page      = getNeweggPage(search_term)\n",
    "    elif website == \"Adorama\":\n",
    "        page      = getAdoramaPage(user_input)\n",
    "    elif website == \"B&H Photo Video\":\n",
    "        page      = getBHPage(user_input) # page is modified differently\n",
    "        \n",
    "    soup = getDataWithSelenium(page)\n",
    "    df   = getDF(soup,website)\n",
    "    \n",
    "    return soup, df"
   ]
  },
  {
   "cell_type": "markdown",
   "id": "ad37fe1a",
   "metadata": {},
   "source": [
    "# Prepare data and convert to data frame"
   ]
  },
  {
   "cell_type": "code",
   "execution_count": 25,
   "id": "0eaed115",
   "metadata": {},
   "outputs": [],
   "source": [
    "def getDF(soup,website_name):\n",
    "    if soup is None:\n",
    "        print(f\"No data from {website_name} was retrieved...\")\n",
    "        return None\n",
    "    else:\n",
    "        try:\n",
    "            #For Microcenter dataframe\n",
    "            if website_name == \"Microcenter\":\n",
    "                microcenter_df = createDataFrame(item   = user_input,   \n",
    "                                          website       = \"Microcenter\",\n",
    "                                          product_names = getMicrocenterProductNames(microcenter_soup),\n",
    "                                          links         = getMicrocenterLinks(microcenter_soup),\n",
    "                                          prices        = getMicrocenterPrices(microcenter_soup),\n",
    "                                          usual_prices  = getMicrocenterUsualPrices(microcenter_soup),\n",
    "                                          stock         = getMicrocenterStocks(microcenter_soup))\n",
    "                microcenter_df = microcenterInStockColumn(microcenter_df)\n",
    "                return microcenter_df\n",
    "            \n",
    "            #For Amazon dataframe\n",
    "            elif website_name == \"Amazon\":\n",
    "                amazon_df = createDataFrame(item      = user_input,\n",
    "                                        website       = \"Amazon\",\n",
    "                                        product_names = getAmazonProductNames(amazon_soup),\n",
    "                                        links         = getAmazonLinks(amazon_soup),\n",
    "                                        prices        = getAmazonPrices(amazon_soup),\n",
    "                                        usual_prices  = getAmazonUsualPrices(amazon_soup),\n",
    "                                        stock         = getAmazonStock(amazon_soup))\n",
    "                amazon_df = amazonInStockColumn(amazon_df)\n",
    "                return amazon_df\n",
    "        \n",
    "            #For Newegg dataframe\n",
    "            elif website_name == \"Newegg\":\n",
    "                newegg_df = createDataFrame(item      = user_input,\n",
    "                                        website       = \"Newegg\",\n",
    "                                        product_names = getNeweggProductNames(newegg_soup),\n",
    "                                        links         = getNeweggLinks(newegg_soup),\n",
    "                                        prices        = getNeweggPrices(newegg_soup),\n",
    "                                        usual_prices  = getNeweggUsualPrices(newegg_soup),\n",
    "                                        stock         = \"Info Unavailable\")\n",
    "                return newegg_df\n",
    "            \n",
    "            #For Adorama dataframe\n",
    "            elif website_name == \"Adorama\":\n",
    "                adorama_df = createDataFrame(item     = user_input,\n",
    "                                        website       = \"Adorama\",\n",
    "                                        product_names = getAdoramaProductNames(adorama_soup),\n",
    "                                        links         = getAdoramaLinks(adorama_soup),\n",
    "                                        prices        = getAdoramaPrices(adorama_soup),\n",
    "                                        usual_prices  = getAdoramaUsualPrices(adorama_soup),\n",
    "                                        stock         = \"Info Unavailable\")\n",
    "                return adorama_df\n",
    "            \n",
    "            #For BH dataframe\n",
    "            elif website_name == \"B&H Photo Video\":\n",
    "                bh_df = createDataFrame(item   = user_input,\n",
    "                                website        = \"B&H Photo Video\",\n",
    "                                product_names  = getBHProductNames(bh_soup),\n",
    "                                links          = getBHLinks(bh_soup),\n",
    "                                prices         = getBHPrices(bh_soup),\n",
    "                                usual_prices   = getBHUsualPrices(bh_soup),\n",
    "                                stock          = getBHStock(bh_soup))\n",
    "                return bh_df\n",
    "            \n",
    "        except:\n",
    "            print(f\"Could not create data frame for {website}.\")\n",
    "            df = None\n",
    "        return df\n",
    "                "
   ]
  },
  {
   "cell_type": "markdown",
   "id": "31b39c4c",
   "metadata": {},
   "source": [
    "# Data frame create function"
   ]
  },
  {
   "cell_type": "code",
   "execution_count": 5,
   "id": "7454af3c",
   "metadata": {},
   "outputs": [],
   "source": [
    "# Pass in collected data from website to create a data frame\n",
    "def createDataFrame(item,website,product_names,links,prices,usual_prices,stock):  \n",
    "    df = pd.DataFrame()\n",
    "    \n",
    "    if not product_names:\n",
    "        print(f\"No available product results for: '{item}' at {website}\")\n",
    "        return\n",
    "    else:\n",
    "        #Setting up objects as columns\n",
    "        df = pd.DataFrame(\n",
    "            {'Website':website, \n",
    "             'Product Name':product_names, \n",
    "             'Link':links, \n",
    "             'Price':prices, \n",
    "             'Usual Price': usual_prices,\n",
    "             'In-Stock':stock}) \n",
    "        return df         "
   ]
  },
  {
   "cell_type": "markdown",
   "id": "e57f291c",
   "metadata": {},
   "source": [
    "# Modify stock columns\n",
    "Microcenter\n",
    "\n",
    "Amazon"
   ]
  },
  {
   "cell_type": "code",
   "execution_count": 11,
   "id": "062cbc1b",
   "metadata": {
    "scrolled": true
   },
   "outputs": [],
   "source": [
    "# Microcenter In-Stock data frame\n",
    "def microcenterInStockColumn(microcenter_df):\n",
    "#     microcenter_df['In-Stock'] = microcenter_df['In-Stock'].astype(int)\n",
    "    \n",
    "    for i, row in microcenter_df.iterrows():\n",
    "        if row['In-Stock'] == '25+': \n",
    "            microcenter_df.at[i,'In-Stock'] = 'In-Stock'\n",
    "        else:\n",
    "            item_stock = int(row['In-Stock'])\n",
    "            if item_stock >= 10:\n",
    "                microcenter_df.at[i,'In-Stock'] = 'In-Stock'\n",
    "            elif item_stock in range(0,10):\n",
    "                microcenter_df.at[i,'In-Stock'] = 'Low On Stock'\n",
    "            else:\n",
    "                microcenter_df.at[i,'In-Stock'] = row\n",
    "            \n",
    "    return microcenter_df"
   ]
  },
  {
   "cell_type": "code",
   "execution_count": 12,
   "id": "35eb4a3c",
   "metadata": {
    "scrolled": true
   },
   "outputs": [],
   "source": [
    "# Amazon In-Stock data frame\n",
    "def amazonInStockColumn(amazon_df):\n",
    "    for i, row in amazon_df.iterrows():\n",
    "        if row['In-Stock'] is None:\n",
    "            amazon_df.at[i,'In-Stock'] = 'In-Stock'\n",
    "        elif \"Only\" in row['In-Stock']:\n",
    "            amazon_df.at[i,'In-Stock'] = 'Low On Stock'\n",
    "        else:\n",
    "            amazon_df.at[i,'In-Stock'] = row\n",
    "            \n",
    "    return amazon_df"
   ]
  },
  {
   "cell_type": "markdown",
   "id": "7711ca59",
   "metadata": {},
   "source": [
    "# Add price related columns\n",
    "Adds 'usual price' column if the current price is discounted \n",
    "\n",
    "Adds 'percentage off' column displaying the percentage off of the usual price"
   ]
  },
  {
   "cell_type": "code",
   "execution_count": null,
   "id": "c5b6f8f9",
   "metadata": {},
   "outputs": [],
   "source": [
    "def addColumns(df):\n",
    "    try:\n",
    "        # Set 'Price' and 'Usual Price' columns as float datatype\n",
    "        df['Price']       = df['Price'].astype(float)\n",
    "        df['Usual Price'] = df['Usual Price'].astype(float)\n",
    "\n",
    "        # Add columns for amount saved $ and the % off\n",
    "        df = addMoneySavedColumn(df)\n",
    "        df = addPercentageOffColumn(df)     \n",
    "        return df\n",
    "    \n",
    "    except:\n",
    "        print(\"Issue occurred when modifying final data frame\")\n",
    "        return None"
   ]
  },
  {
   "cell_type": "code",
   "execution_count": 13,
   "id": "2ed31210",
   "metadata": {},
   "outputs": [],
   "source": [
    "# Get the amount saved by getting the difference between 'Usual Price' and 'Price'\n",
    "def addMoneySavedColumn(entire_df):\n",
    "    price_difference = []\n",
    "    for i, row in entire_df.iterrows():\n",
    "        if pd.isna(row['Usual Price']):\n",
    "            price_difference.append(None)        \n",
    "        else:\n",
    "            try:\n",
    "                difference = row['Usual Price'] - row['Price']\n",
    "                price_difference.append(round(difference, 2))\n",
    "            except:\n",
    "                price_difference.append(None)        \n",
    "    \n",
    "    # Add the new column using loc\n",
    "    entire_df.loc[:, '$ Save'] = price_difference\n",
    "    \n",
    "    return entire_df"
   ]
  },
  {
   "cell_type": "code",
   "execution_count": 14,
   "id": "1f4fdaba",
   "metadata": {},
   "outputs": [],
   "source": [
    "def addPercentageOffColumn(entire_df):\n",
    "    percentage_off = []\n",
    "    for i, row in entire_df.iterrows():\n",
    "        if pd.isna(row['$ Save']):\n",
    "            percentage_off.append(None)\n",
    "        else:\n",
    "            try:\n",
    "                percentage = (row['$ Save'] / row['Usual Price']) * 100\n",
    "                percentage_off.append(round(percentage,2))\n",
    "            except:\n",
    "                percentage_off.append(None)\n",
    "        \n",
    "    # Add the new column using loc\n",
    "    entire_df.loc[:, '% Off'] = percentage_off\n",
    "    \n",
    "    return entire_df"
   ]
  },
  {
   "cell_type": "markdown",
   "id": "990b6fa8",
   "metadata": {},
   "source": [
    "# Filter data"
   ]
  },
  {
   "cell_type": "code",
   "execution_count": 16,
   "id": "ba6f3b61",
   "metadata": {},
   "outputs": [],
   "source": [
    "def filterOption(df,user_input,current_time):\n",
    "    filter_option = \"\"\n",
    "    try_again = \"\"    \n",
    "    again = True    \n",
    "    while(again == True):\n",
    "        print('\\n------------ FILTER OPTIONS ------------')\n",
    "        print(\"1: Price:   Low to High\", \n",
    "              \"\\n2: Price:   High to Low\", \n",
    "              \"\\n3: $ Saved: High to Low\", \n",
    "              \"\\n4: % Off:   High to Low\",\n",
    "              \"\\n5: None\")\n",
    "        filter_option = input(\"\\nSelect filter by entering number: \")        \n",
    "\n",
    "        if filter_option == '1':\n",
    "            print(\"\\nFiltering 'Price' from low to high\")\n",
    "            filtered_df = df.sort_values(by=['Price'], ascending=True)\n",
    "            print(filtered_df)\n",
    "            \n",
    "        elif filter_option == '2':\n",
    "            print(\"\\nFiltering 'Price' from high to low\")\n",
    "            filtered_df = df.sort_values(by=['Price'], ascending=False)\n",
    "            print(filtered_df)\n",
    "            \n",
    "        elif filter_option == '3':\n",
    "            print(\"\\nFiltering '$ Saved' from high to low\")\n",
    "            filtered_df = df.sort_values(by=['$ Saved'], ascending=False)\n",
    "            print(filtered_df)\n",
    "            \n",
    "        elif filter_option == '4':\n",
    "            print(\"\\nFiltering '% Off' from high to low\")\n",
    "            filtered_df = df.sort_values(by=['% Off'], ascending=False)\n",
    "            print(filtered_df)\n",
    "            \n",
    "        elif filter_option == '5':\n",
    "            print(\"\\nNo Filter\")\n",
    "            filtered_df = df    \n",
    "            print(df)\n",
    "        \n",
    "        saveData(filtered_df,user_input,current_time)\n",
    "        \n",
    "        try_again = input(\"\\nTry a different filter? y/n: \")\n",
    "        if (try_again == 'n' or try_again == 'N'):\n",
    "            again = False      "
   ]
  },
  {
   "cell_type": "markdown",
   "id": "7ae3fb7d",
   "metadata": {},
   "source": [
    "# Save data"
   ]
  },
  {
   "cell_type": "code",
   "execution_count": 17,
   "id": "039a96fd",
   "metadata": {},
   "outputs": [],
   "source": [
    "def saveData(df,user_input,current_time):\n",
    "    save_df = \"\"    \n",
    "    again = True\n",
    "    while(again == True):\n",
    "        save_df = input(\"\\nWould you like to save this dataframe as a csv file? y/n: \")\n",
    "        if(save_df == 'y' or save_df == 'Y'):\n",
    "            print('\\n------------ SAVING PRODUCT DATA ------------')  \n",
    "            \n",
    "            # Save result as csv file\n",
    "            df.to_csv(f\"{user_input}_{current_time}.csv\", index=False)  \n",
    "            print(f\"Saved data as '{user_input} {current_time}.csv'\\n\")   \n",
    "            again = False        \n",
    "        elif(save_df == 'n' or save_df == 'N'):\n",
    "            again = False        \n",
    "        else:\n",
    "            continue\n",
    "    return"
   ]
  },
  {
   "cell_type": "markdown",
   "id": "a395b717",
   "metadata": {},
   "source": [
    "# main()"
   ]
  },
  {
   "cell_type": "code",
   "execution_count": null,
   "id": "b6fb6f52",
   "metadata": {},
   "outputs": [],
   "source": [
    "def getData(selected_websites):\n",
    "    try: \n",
    "        if selected_websites is not None:\n",
    "            print('\\n------------ GETTING DATA ------------')            \n",
    "            df = getSelectedSitesInfo(selected_websites,search_term,user_input)\n",
    "            filterOption(df,user_input,current_time)   \n",
    "    except:\n",
    "        print(\"\\nCould not obtain data...\") "
   ]
  },
  {
   "cell_type": "code",
   "execution_count": null,
   "id": "59697812",
   "metadata": {
    "scrolled": true
   },
   "outputs": [],
   "source": [
    "# def main():\n",
    "search_again = \"\"\n",
    "\n",
    "while(search_again != 'n' or search_again != 'N'):\n",
    "\n",
    "    displayWelcomeMessage()\n",
    "    \n",
    "    user_input,search_term,current_time = getSearchInfo()    \n",
    "    \n",
    "    websites_arr = websiteSelection()\n",
    "    \n",
    "    getData(websites_arr,search_term,user_input)\n",
    "\n",
    "    search_again=input(\"\\nSearch a different product? 'y/n' \")\n",
    "\n",
    "    # Resetting past inputs\n",
    "    if search_again == 'y' or search_again == 'Y':\n",
    "        search_again   = \"\"\n",
    "        website_option = \"\"\n",
    "    elif search_again == 'n' or search_again == 'N':\n",
    "        break\n",
    "print(\"\\n------------ GOODBYE ------------\")"
   ]
  },
  {
   "cell_type": "code",
   "execution_count": null,
   "id": "5c712824",
   "metadata": {},
   "outputs": [],
   "source": []
  },
  {
   "cell_type": "code",
   "execution_count": null,
   "id": "a6531f0b",
   "metadata": {},
   "outputs": [],
   "source": []
  },
  {
   "cell_type": "code",
   "execution_count": 32,
   "id": "6b6e2d85",
   "metadata": {},
   "outputs": [],
   "source": [
    "if __name__ == '__main__':\n",
    "    main()"
   ]
  }
 ],
 "metadata": {
  "kernelspec": {
   "display_name": "Python 3 (ipykernel)",
   "language": "python",
   "name": "python3"
  },
  "language_info": {
   "codemirror_mode": {
    "name": "ipython",
    "version": 3
   },
   "file_extension": ".py",
   "mimetype": "text/x-python",
   "name": "python",
   "nbconvert_exporter": "python",
   "pygments_lexer": "ipython3",
   "version": "3.9.13"
  },
  "varInspector": {
   "cols": {
    "lenName": 16,
    "lenType": 16,
    "lenVar": 40
   },
   "kernels_config": {
    "python": {
     "delete_cmd_postfix": "",
     "delete_cmd_prefix": "del ",
     "library": "var_list.py",
     "varRefreshCmd": "print(var_dic_list())"
    },
    "r": {
     "delete_cmd_postfix": ") ",
     "delete_cmd_prefix": "rm(",
     "library": "var_list.r",
     "varRefreshCmd": "cat(var_dic_list()) "
    }
   },
   "types_to_exclude": [
    "module",
    "function",
    "builtin_function_or_method",
    "instance",
    "_Feature"
   ],
   "window_display": false
  }
 },
 "nbformat": 4,
 "nbformat_minor": 5
}
