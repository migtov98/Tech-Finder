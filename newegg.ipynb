{
 "cells": [
  {
   "cell_type": "code",
   "execution_count": 3,
   "id": "88d29cbc",
   "metadata": {},
   "outputs": [],
   "source": [
    "import requests\n",
    "from bs4 import BeautifulSoup\n",
    "%run selenium.ipynb"
   ]
  },
  {
   "cell_type": "code",
   "execution_count": 4,
   "id": "12531c12",
   "metadata": {},
   "outputs": [],
   "source": [
    "#Attaches the search_term to the search link\n",
    "def getNeweggPage(search_term):\n",
    "    page = f\"https://www.newegg.com/p/pl?d={search_term}\"\n",
    "    return page\n",
    "\n",
    "#Gets the name of the products\n",
    "def getNeweggProductNames(soup):\n",
    "    arr_product_names = []\n",
    "    results = soup.find_all('div',{'class':'item-cell'})\n",
    "    for item in results:\n",
    "        try:\n",
    "            title = item.find('span',{'class':'item-open-box-italic'}).find_next_siblings(string=True)\n",
    "            for i in title:\n",
    "                title = i\n",
    "        except:\n",
    "            title = None\n",
    "        arr_product_names.append(title)\n",
    "    return arr_product_names\n",
    "\n",
    "#Gets the links of the products\n",
    "def getNeweggLinks(soup):\n",
    "    arr_links = []\n",
    "    results = soup.find_all('div',{'class':'item-cell'})\n",
    "    for item in results:\n",
    "        try:\n",
    "            title = item.find('a',{'title':'View Details'})['href']\n",
    "        except:\n",
    "            title = None\n",
    "        arr_links.append(title)\n",
    "    return arr_links\n",
    "\n",
    "#Gets the prices listed\n",
    "def getNeweggPrices(soup):\n",
    "    arr_prices = []\n",
    "    results = soup.find_all('div',{'class':'item-action'})\n",
    "    for item in results:\n",
    "        try:\n",
    "            whole = item.find('strong').text\n",
    "            fractional = item.find('sup').text\n",
    "            price = whole+fractional\n",
    "        except:\n",
    "            price = None\n",
    "        arr_prices.append(price)\n",
    "    return arr_prices\n",
    "        \n",
    "#This functions gets the usual price if the product is on sale\n",
    "def getNeweggUsualPrices(soup):\n",
    "    arr_usual_prices = []\n",
    "    results = soup.find_all('div',{'class':'item-action'})\n",
    "    for item in results:\n",
    "        try:\n",
    "            usual_price = item.find('span',{'class':'price-was-data'}).text.replace('$','').replace(',','').strip()\n",
    "        except:\n",
    "            usual_price = None\n",
    "        arr_usual_prices.append(usual_price) \n",
    "    return arr_usual_prices"
   ]
  }
 ],
 "metadata": {
  "kernelspec": {
   "display_name": "Python 3 (ipykernel)",
   "language": "python",
   "name": "python3"
  },
  "language_info": {
   "codemirror_mode": {
    "name": "ipython",
    "version": 3
   },
   "file_extension": ".py",
   "mimetype": "text/x-python",
   "name": "python",
   "nbconvert_exporter": "python",
   "pygments_lexer": "ipython3",
   "version": "3.9.13"
  },
  "varInspector": {
   "cols": {
    "lenName": 16,
    "lenType": 16,
    "lenVar": 40
   },
   "kernels_config": {
    "python": {
     "delete_cmd_postfix": "",
     "delete_cmd_prefix": "del ",
     "library": "var_list.py",
     "varRefreshCmd": "print(var_dic_list())"
    },
    "r": {
     "delete_cmd_postfix": ") ",
     "delete_cmd_prefix": "rm(",
     "library": "var_list.r",
     "varRefreshCmd": "cat(var_dic_list()) "
    }
   },
   "types_to_exclude": [
    "module",
    "function",
    "builtin_function_or_method",
    "instance",
    "_Feature"
   ],
   "window_display": false
  }
 },
 "nbformat": 4,
 "nbformat_minor": 5
}
