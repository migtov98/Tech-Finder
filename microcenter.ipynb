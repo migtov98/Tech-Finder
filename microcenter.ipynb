{
 "cells": [
  {
   "cell_type": "code",
   "execution_count": 1,
   "id": "152ef0fb",
   "metadata": {},
   "outputs": [],
   "source": [
    "import requests\n",
    "from bs4 import BeautifulSoup\n",
    "%run selenium.ipynb"
   ]
  },
  {
   "cell_type": "code",
   "execution_count": 2,
   "id": "51b206bd",
   "metadata": {},
   "outputs": [],
   "source": [
    "MICROCENTER_URL = 'https://www.microcenter.com'\n",
    "\n",
    "def getMicrocenterPage(search_term):\n",
    "    page = f\"https://www.microcenter.com/search/search_results.aspx?N=&cat=&Ntt={search_term}&searchButton=search\"\n",
    "    return page \n",
    "\n",
    "def getMicrocenterProductNames(soup):\n",
    "    arr_product_names = []\n",
    "    results = soup.find_all('div',{'class':'details'})\n",
    "    for item in results:\n",
    "        title = item.find('a').text.strip()\n",
    "        arr_product_names.append(title)\n",
    "    return arr_product_names\n",
    "\n",
    "def getMicrocenterLinks(soup):\n",
    "    arr_links = []\n",
    "    results = soup.find_all('div',{'class':'details'})\n",
    "    for item in results:\n",
    "        link = item.find('a')['href']\n",
    "        arr_links.append(MICROCENTER_URL + link)\n",
    "    return arr_links\n",
    "\n",
    "def getMicrocenterPrices(soup):\n",
    "    arr_prices = []\n",
    "    results = soup.find_all('div',{'class':\"details\"})\n",
    "    for item in results:\n",
    "        try:\n",
    "            price = item.find('a')['data-price']\n",
    "        except:\n",
    "            price = None\n",
    "        arr_prices.append(price)\n",
    "    return arr_prices\n",
    "\n",
    "def getMicrocenterUsualPrices(soup):\n",
    "    arr_usual_prices = []\n",
    "    results = soup.find_all('div',{'class':\"details\"})\n",
    "    for item in results:\n",
    "        try:\n",
    "            usual_price = item.find('div',{'class':'standardDiscount'}).find_next(string=True)\n",
    "            usual_price = usual_price.text.replace('$','').replace(',','').strip()    \n",
    "        except:\n",
    "            usual_price = None\n",
    "        arr_usual_prices.append(usual_price)\n",
    "    return arr_usual_prices\n",
    "\n",
    "def getMicrocenterStocks(soup):\n",
    "    arr_stocks = []\n",
    "    results = soup.find_all('div',{'class':'stock'})\n",
    "    for item in results:\n",
    "        try:\n",
    "            stock = item.find('span',{'class':\"inventoryCnt\"}).find_next(string=True)\n",
    "        except:\n",
    "            stock = None\n",
    "        arr_stocks.append(stock.text.strip())\n",
    "    return arr_stocks"
   ]
  }
 ],
 "metadata": {
  "kernelspec": {
   "display_name": "Python 3 (ipykernel)",
   "language": "python",
   "name": "python3"
  },
  "language_info": {
   "codemirror_mode": {
    "name": "ipython",
    "version": 3
   },
   "file_extension": ".py",
   "mimetype": "text/x-python",
   "name": "python",
   "nbconvert_exporter": "python",
   "pygments_lexer": "ipython3",
   "version": "3.9.13"
  },
  "varInspector": {
   "cols": {
    "lenName": 16,
    "lenType": 16,
    "lenVar": 40
   },
   "kernels_config": {
    "python": {
     "delete_cmd_postfix": "",
     "delete_cmd_prefix": "del ",
     "library": "var_list.py",
     "varRefreshCmd": "print(var_dic_list())"
    },
    "r": {
     "delete_cmd_postfix": ") ",
     "delete_cmd_prefix": "rm(",
     "library": "var_list.r",
     "varRefreshCmd": "cat(var_dic_list()) "
    }
   },
   "types_to_exclude": [
    "module",
    "function",
    "builtin_function_or_method",
    "instance",
    "_Feature"
   ],
   "window_display": false
  }
 },
 "nbformat": 4,
 "nbformat_minor": 5
}
